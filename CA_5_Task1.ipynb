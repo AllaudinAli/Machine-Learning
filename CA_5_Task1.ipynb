{
  "nbformat": 4,
  "nbformat_minor": 0,
  "metadata": {
    "colab": {
      "provenance": [],
      "authorship_tag": "ABX9TyNbKazs9CF/EgGu5DC2WXqw",
      "include_colab_link": true
    },
    "kernelspec": {
      "name": "python3",
      "display_name": "Python 3"
    },
    "language_info": {
      "name": "python"
    }
  },
  "cells": [
    {
      "cell_type": "markdown",
      "metadata": {
        "id": "view-in-github",
        "colab_type": "text"
      },
      "source": [
        "<a href=\"https://colab.research.google.com/github/AllaudinAli/Machine-Learning/blob/main/CA_5_Task1.ipynb\" target=\"_parent\"><img src=\"https://colab.research.google.com/assets/colab-badge.svg\" alt=\"Open In Colab\"/></a>"
      ]
    },
    {
      "cell_type": "code",
      "execution_count": 232,
      "metadata": {
        "id": "PXvDwnBHzB4x"
      },
      "outputs": [],
      "source": [
        "import numpy as np\n",
        "from matplotlib.image import imread\n",
        "import pandas as pd\n",
        "import matplotlib.pyplot as plt\n",
        "import math\n",
        "from sklearn import svm\n",
        "from sklearn.preprocessing import MinMaxScaler\n",
        "from sklearn.model_selection import train_test_split\n",
        "from sklearn.svm import SVC\n",
        "from sklearn import metrics\n",
        "from skimage.feature import hog\n",
        "from sklearn.decomposition import PCA\n",
        "from sklearn.metrics import accuracy_score\n",
        "from sklearn.metrics import confusion_matrix"
      ]
    },
    {
      "cell_type": "code",
      "source": [
        "# Read the Excel file\n",
        "df = pd.read_excel('Dataset for People for their Blood Glucose Level with their Superficial body feature readings.xlsx', header = 0)"
      ],
      "metadata": {
        "id": "9lwsH8us0aOy"
      },
      "execution_count": 233,
      "outputs": []
    },
    {
      "cell_type": "code",
      "source": [
        "# For some reason columns are Unnamed\n",
        "print(df.columns)"
      ],
      "metadata": {
        "colab": {
          "base_uri": "https://localhost:8080/"
        },
        "id": "FfmyyYNp4fXI",
        "outputId": "702a1370-266f-439c-bde6-d5fe1e8c12b2"
      },
      "execution_count": 234,
      "outputs": [
        {
          "output_type": "stream",
          "name": "stdout",
          "text": [
            "Index(['Dataset for People for their Blood Glucose Level with their Superficial Body Feature readings.',\n",
            "       'Unnamed: 1', 'Unnamed: 2', 'Unnamed: 3', 'Unnamed: 4', 'Unnamed: 5',\n",
            "       'Unnamed: 6', 'Unnamed: 7', 'Unnamed: 8', 'Unnamed: 9'],\n",
            "      dtype='object')\n"
          ]
        }
      ]
    },
    {
      "cell_type": "code",
      "source": [
        "# Naming Columns manually\n",
        "df.columns = ['Age', 'Blood Glucose Level(BGL)', 'Diastolic Blood Pressure', 'Systolic Blood Pressure', 'Heart Rate', 'Body Temperature', 'SPO2', 'Sweating (Y/N)', 'Shivering (Y/N)', 'Diabetic/NonDiabetic (D/N)']\n",
        "print(df.columns)"
      ],
      "metadata": {
        "colab": {
          "base_uri": "https://localhost:8080/"
        },
        "id": "PE4mJ6A85C8K",
        "outputId": "4631f1a5-22fa-4569-9071-e8373da89f28"
      },
      "execution_count": 235,
      "outputs": [
        {
          "output_type": "stream",
          "name": "stdout",
          "text": [
            "Index(['Age', 'Blood Glucose Level(BGL)', 'Diastolic Blood Pressure',\n",
            "       'Systolic Blood Pressure', 'Heart Rate', 'Body Temperature', 'SPO2',\n",
            "       'Sweating (Y/N)', 'Shivering (Y/N)', 'Diabetic/NonDiabetic (D/N)'],\n",
            "      dtype='object')\n"
          ]
        }
      ]
    },
    {
      "cell_type": "code",
      "source": [
        "# Age had a NaN value, So Removing that Column\n",
        "df['Age'] = pd.to_numeric(df['Age'], errors='coerce')\n",
        "print(df['Age'].unique()) # Before\n",
        "df = df[pd.to_numeric(df['Age'], errors='coerce').notnull()]\n",
        "print(df['Age'].unique()) # After\n",
        "df['Age'] = df['Age'].astype(float)"
      ],
      "metadata": {
        "colab": {
          "base_uri": "https://localhost:8080/"
        },
        "id": "eLr1TiPb6Cgi",
        "outputId": "8454145e-389e-445b-a4ca-80056c28ce31"
      },
      "execution_count": 236,
      "outputs": [
        {
          "output_type": "stream",
          "name": "stdout",
          "text": [
            "[nan  9. 66. 30. 36. 44. 46. 51. 14. 15. 19. 76. 77. 55.]\n",
            "[ 9. 66. 30. 36. 44. 46. 51. 14. 15. 19. 76. 77. 55.]\n"
          ]
        },
        {
          "output_type": "stream",
          "name": "stderr",
          "text": [
            "<ipython-input-236-c886453bc0ae>:6: SettingWithCopyWarning: \n",
            "A value is trying to be set on a copy of a slice from a DataFrame.\n",
            "Try using .loc[row_indexer,col_indexer] = value instead\n",
            "\n",
            "See the caveats in the documentation: https://pandas.pydata.org/pandas-docs/stable/user_guide/indexing.html#returning-a-view-versus-a-copy\n",
            "  df['Age'] = df['Age'].astype(float)\n"
          ]
        }
      ]
    },
    {
      "cell_type": "code",
      "source": [
        "X = df.iloc[:, [0,1,2,3,4,5,6,7,8]].values\n",
        "y = df.iloc[:, 9].values\n",
        "\n",
        "\n",
        "# Split the data into training and testing sets\n",
        "X_train, X_test, y_train, y_test = train_test_split(X, y, test_size=0.3, random_state=42)"
      ],
      "metadata": {
        "id": "oklNNVVtDInP"
      },
      "execution_count": 243,
      "outputs": []
    },
    {
      "cell_type": "code",
      "source": [
        "# Fitting SVM classification\n",
        "my_svm = SVC()\n",
        "my_svm.fit(X_train, y_train)\n",
        "\n",
        "# Predicting for test\n",
        "y_pred = my_svm.predict(X_test)"
      ],
      "metadata": {
        "id": "9tU7mgDd2IEv"
      },
      "execution_count": 244,
      "outputs": []
    },
    {
      "cell_type": "code",
      "source": [
        "# Checking Accuracy for good measures\n",
        "accuracy = accuracy_score(y_test, y_pred)\n",
        "print(\"Accuracy:\", accuracy*100)"
      ],
      "metadata": {
        "colab": {
          "base_uri": "https://localhost:8080/"
        },
        "id": "h-FDGIsg3CyF",
        "outputId": "00dc9c1c-e345-4060-e1e3-a9abeccfac13"
      },
      "execution_count": 245,
      "outputs": [
        {
          "output_type": "stream",
          "name": "stdout",
          "text": [
            "Accuracy: 97.91789432331566\n"
          ]
        }
      ]
    },
    {
      "cell_type": "code",
      "source": [
        "# Confusion matrix\n",
        "cm = confusion_matrix(y_test, y_pred)\n",
        "print(\"Confusion Matrix:\")\n",
        "print(cm)"
      ],
      "metadata": {
        "colab": {
          "base_uri": "https://localhost:8080/"
        },
        "id": "MYTcJaMw7SGi",
        "outputId": "98faae66-349d-4105-9d09-ad1845a92d16"
      },
      "execution_count": 246,
      "outputs": [
        {
          "output_type": "stream",
          "name": "stdout",
          "text": [
            "Confusion Matrix:\n",
            "[[4985    0]\n",
            " [ 106    0]]\n"
          ]
        }
      ]
    },
    {
      "cell_type": "code",
      "source": [
        "# Calc (FRP)\n",
        "classes = len(set(y_test))\n",
        "fpr = []\n",
        "for i in range(classes):\n",
        "    fp = sum(cm[:, i]) - cm[i, i]\n",
        "    tn = sum(sum(cm)) - sum(cm[i, :]) - sum(cm[:, i]) + cm[i, i]\n",
        "    fpr_i = fp / (fp + tn)\n",
        "    fpr.append(fpr_i)\n",
        "\n",
        "accuracy = accuracy_score(y_test, y_pred)"
      ],
      "metadata": {
        "id": "MPk0rGgj78bn"
      },
      "execution_count": 247,
      "outputs": []
    },
    {
      "cell_type": "code",
      "source": [
        "print(\"False Positive Rate (FPR) for each class:\")\n",
        "for i in range(classes):\n",
        "    print(\"Class {}: {:.4f}\".format(i, fpr[i]))\n",
        "\n",
        "print(\"Overall Accuracy: {:.4f}\".format(accuracy*100))\n"
      ],
      "metadata": {
        "colab": {
          "base_uri": "https://localhost:8080/"
        },
        "id": "YmGr67xM8E93",
        "outputId": "ba8a11c8-1a60-474e-f280-da1c531e4801"
      },
      "execution_count": 248,
      "outputs": [
        {
          "output_type": "stream",
          "name": "stdout",
          "text": [
            "False Positive Rate (FPR) for each class:\n",
            "Class 0: 1.0000\n",
            "Class 1: 0.0000\n",
            "Overall Accuracy: 97.9179\n"
          ]
        }
      ]
    }
  ]
}