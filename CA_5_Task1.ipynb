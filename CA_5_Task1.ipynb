{
  "cells": [
    {
      "cell_type": "markdown",
      "metadata": {
        "colab_type": "text",
        "id": "view-in-github"
      },
      "source": [
        "<a href=\"https://colab.research.google.com/github/AllaudinAli/Machine-Learning/blob/main/CA_5_Task1.ipynb\" target=\"_parent\"><img src=\"https://colab.research.google.com/assets/colab-badge.svg\" alt=\"Open In Colab\"/></a>"
      ]
    },
    {
      "cell_type": "code",
      "execution_count": 649,
      "metadata": {
        "id": "PXvDwnBHzB4x"
      },
      "outputs": [],
      "source": [
        "import numpy as np\n",
        "from matplotlib.image import imread\n",
        "import pandas as pd\n",
        "import matplotlib.pyplot as plt\n",
        "import math\n",
        "from sklearn import svm\n",
        "from sklearn.preprocessing import MinMaxScaler\n",
        "from sklearn.model_selection import train_test_split\n",
        "from sklearn.svm import SVC\n",
        "from sklearn import metrics\n",
        "from skimage.feature import hog\n",
        "from sklearn.decomposition import PCA\n",
        "from sklearn.metrics import accuracy_score\n",
        "import seaborn as sns\n",
        "from sklearn.metrics import confusion_matrix"
      ]
    },
    {
      "cell_type": "markdown",
      "metadata": {
        "id": "QZtMdVL_lxHM"
      },
      "source": [
        "Reading the Dataset"
      ]
    },
    {
      "cell_type": "code",
      "execution_count": 650,
      "metadata": {
        "id": "9lwsH8us0aOy"
      },
      "outputs": [],
      "source": [
        "df = pd.read_excel('Dataset for People for their Blood Glucose Level with their Superficial body feature readings.xlsx', skiprows=[0])"
      ]
    },
    {
      "cell_type": "markdown",
      "metadata": {
        "id": "9WjLQ6vsl5vk"
      },
      "source": [
        "For some reason columns are Unnamed"
      ]
    },
    {
      "cell_type": "markdown",
      "metadata": {
        "id": "zsW9Ky9ul-_V"
      },
      "source": [
        "Naming Columns manually"
      ]
    },
    {
      "cell_type": "code",
      "execution_count": 652,
      "metadata": {
        "colab": {
          "base_uri": "https://localhost:8080/"
        },
        "id": "PE4mJ6A85C8K",
        "outputId": "1f4ab8b9-edb6-4586-9425-726f568080b1"
      },
      "outputs": [
        {
          "name": "stdout",
          "output_type": "stream",
          "text": [
            "Index(['Age', 'Blood Glucose Level(BGL)', 'Diastolic Blood Pressure',\n",
            "       'Systolic Blood Pressure', 'Heart Rate', 'Body Temperature', 'SPO2',\n",
            "       'Sweating (Y/N)', 'Shivering (Y/N)', 'Diabetic/NonDiabetic (D/N)'],\n",
            "      dtype='object')\n"
          ]
        }
      ],
      "source": [
        "df.columns = ['Age', 'Blood Glucose Level(BGL)', 'Diastolic Blood Pressure', 'Systolic Blood Pressure', 'Heart Rate', 'Body Temperature', 'SPO2', 'Sweating (Y/N)', 'Shivering (Y/N)', 'Diabetic/NonDiabetic (D/N)']\n",
        "print(df.columns)"
      ]
    },
    {
      "cell_type": "markdown",
      "metadata": {
        "id": "ZQuO6UxDmHeG"
      },
      "source": [
        "Checking NaN values"
      ]
    },
    {
      "cell_type": "code",
      "execution_count": 653,
      "metadata": {
        "colab": {
          "base_uri": "https://localhost:8080/"
        },
        "id": "_xUVPBZpf9oM",
        "outputId": "bd97fa9e-0c60-457f-ac39-d461e8dad024"
      },
      "outputs": [
        {
          "name": "stdout",
          "output_type": "stream",
          "text": [
            "Age                           0\n",
            "Blood Glucose Level(BGL)      0\n",
            "Diastolic Blood Pressure      0\n",
            "Systolic Blood Pressure       0\n",
            "Heart Rate                    0\n",
            "Body Temperature              0\n",
            "SPO2                          0\n",
            "Sweating (Y/N)                0\n",
            "Shivering (Y/N)               0\n",
            "Diabetic/NonDiabetic (D/N)    0\n",
            "dtype: int64\n"
          ]
        }
      ],
      "source": [
        "nan_counts = df.isna().sum()\n",
        "print(nan_counts)"
      ]
    },
    {
      "cell_type": "markdown",
      "metadata": {
        "id": "Jo4AnJNIxRLD"
      },
      "source": [
        "Preprocessing: \n",
        "\n",
        "\n",
        "*   Droping index[0]\n",
        "\n"
      ]
    },
    {
      "cell_type": "code",
      "execution_count": 654,
      "metadata": {
        "colab": {
          "base_uri": "https://localhost:8080/"
        },
        "id": "2lrEEV13xLDk",
        "outputId": "2400f16c-10dc-4c5f-d1c4-954ae68d85d0"
      },
      "outputs": [
        {
          "name": "stdout",
          "output_type": "stream",
          "text": [
            "   Age  Blood Glucose Level(BGL)  Diastolic Blood Pressure  \\\n",
            "0  Age  Blood Glucose Level(BGL)  Diastolic Blood Pressure   \n",
            "1    9                        79                        73   \n",
            "2    9                        80                        73   \n",
            "3    9                        70                        76   \n",
            "4    9                        70                        78   \n",
            "\n",
            "   Systolic Blood Pressure  Heart Rate  Body Temperature  SPO2  \\\n",
            "0  Systolic Blood Pressure  Heart Rate  Body Temperature  SPO2   \n",
            "1                      118          98         98.300707    99   \n",
            "2                      119         102         98.300707    94   \n",
            "3                      110          81         98.300707    98   \n",
            "4                      115          96         98.300707    96   \n",
            "\n",
            "    Sweating (Y/N)  Shivering (Y/N)  Diabetic/NonDiabetic (D/N)  \n",
            "0  Sweating  (Y/N)  Shivering (Y/N)  Diabetic/NonDiabetic (D/N)  \n",
            "1                0                0                           N  \n",
            "2                1                0                           N  \n",
            "3                1                0                           N  \n",
            "4                1                0                           N  \n"
          ]
        }
      ],
      "source": [
        "print(df.head())"
      ]
    },
    {
      "cell_type": "code",
      "execution_count": 655,
      "metadata": {
        "id": "WCQligj2xgE9"
      },
      "outputs": [],
      "source": [
        "df = df.drop(0, axis=0)"
      ]
    },
    {
      "cell_type": "markdown",
      "metadata": {
        "id": "SP4uNbbVmw9r"
      },
      "source": [
        "Checking the dataset"
      ]
    },
    {
      "cell_type": "code",
      "execution_count": 656,
      "metadata": {
        "colab": {
          "base_uri": "https://localhost:8080/",
          "height": 175
        },
        "id": "gbTbydw-mzhc",
        "outputId": "8b65413b-b984-43a7-c2da-5d0491b44cf8"
      },
      "outputs": [
        {
          "data": {
            "text/html": [
              "\n",
              "  <div id=\"df-ff309bae-f54a-4918-a854-e80b1e1fd364\">\n",
              "    <div class=\"colab-df-container\">\n",
              "      <div>\n",
              "<style scoped>\n",
              "    .dataframe tbody tr th:only-of-type {\n",
              "        vertical-align: middle;\n",
              "    }\n",
              "\n",
              "    .dataframe tbody tr th {\n",
              "        vertical-align: top;\n",
              "    }\n",
              "\n",
              "    .dataframe thead th {\n",
              "        text-align: right;\n",
              "    }\n",
              "</style>\n",
              "<table border=\"1\" class=\"dataframe\">\n",
              "  <thead>\n",
              "    <tr style=\"text-align: right;\">\n",
              "      <th></th>\n",
              "      <th>Age</th>\n",
              "      <th>Blood Glucose Level(BGL)</th>\n",
              "      <th>Diastolic Blood Pressure</th>\n",
              "      <th>Systolic Blood Pressure</th>\n",
              "      <th>Heart Rate</th>\n",
              "      <th>Body Temperature</th>\n",
              "      <th>SPO2</th>\n",
              "      <th>Sweating (Y/N)</th>\n",
              "      <th>Shivering (Y/N)</th>\n",
              "      <th>Diabetic/NonDiabetic (D/N)</th>\n",
              "    </tr>\n",
              "  </thead>\n",
              "  <tbody>\n",
              "    <tr>\n",
              "      <th>count</th>\n",
              "      <td>16969</td>\n",
              "      <td>16969</td>\n",
              "      <td>16969</td>\n",
              "      <td>16969</td>\n",
              "      <td>16969</td>\n",
              "      <td>16969.000000</td>\n",
              "      <td>16969</td>\n",
              "      <td>16969</td>\n",
              "      <td>16969</td>\n",
              "      <td>16969</td>\n",
              "    </tr>\n",
              "    <tr>\n",
              "      <th>unique</th>\n",
              "      <td>13</td>\n",
              "      <td>82</td>\n",
              "      <td>39</td>\n",
              "      <td>51</td>\n",
              "      <td>53</td>\n",
              "      <td>15636.000000</td>\n",
              "      <td>7</td>\n",
              "      <td>2</td>\n",
              "      <td>2</td>\n",
              "      <td>2</td>\n",
              "    </tr>\n",
              "    <tr>\n",
              "      <th>top</th>\n",
              "      <td>9</td>\n",
              "      <td>68</td>\n",
              "      <td>70</td>\n",
              "      <td>111</td>\n",
              "      <td>95</td>\n",
              "      <td>97.578597</td>\n",
              "      <td>98</td>\n",
              "      <td>0</td>\n",
              "      <td>0</td>\n",
              "      <td>D</td>\n",
              "    </tr>\n",
              "    <tr>\n",
              "      <th>freq</th>\n",
              "      <td>6402</td>\n",
              "      <td>2040</td>\n",
              "      <td>1042</td>\n",
              "      <td>816</td>\n",
              "      <td>883</td>\n",
              "      <td>42.000000</td>\n",
              "      <td>7726</td>\n",
              "      <td>14904</td>\n",
              "      <td>14499</td>\n",
              "      <td>16641</td>\n",
              "    </tr>\n",
              "  </tbody>\n",
              "</table>\n",
              "</div>\n",
              "      <button class=\"colab-df-convert\" onclick=\"convertToInteractive('df-ff309bae-f54a-4918-a854-e80b1e1fd364')\"\n",
              "              title=\"Convert this dataframe to an interactive table.\"\n",
              "              style=\"display:none;\">\n",
              "        \n",
              "  <svg xmlns=\"http://www.w3.org/2000/svg\" height=\"24px\"viewBox=\"0 0 24 24\"\n",
              "       width=\"24px\">\n",
              "    <path d=\"M0 0h24v24H0V0z\" fill=\"none\"/>\n",
              "    <path d=\"M18.56 5.44l.94 2.06.94-2.06 2.06-.94-2.06-.94-.94-2.06-.94 2.06-2.06.94zm-11 1L8.5 8.5l.94-2.06 2.06-.94-2.06-.94L8.5 2.5l-.94 2.06-2.06.94zm10 10l.94 2.06.94-2.06 2.06-.94-2.06-.94-.94-2.06-.94 2.06-2.06.94z\"/><path d=\"M17.41 7.96l-1.37-1.37c-.4-.4-.92-.59-1.43-.59-.52 0-1.04.2-1.43.59L10.3 9.45l-7.72 7.72c-.78.78-.78 2.05 0 2.83L4 21.41c.39.39.9.59 1.41.59.51 0 1.02-.2 1.41-.59l7.78-7.78 2.81-2.81c.8-.78.8-2.07 0-2.86zM5.41 20L4 18.59l7.72-7.72 1.47 1.35L5.41 20z\"/>\n",
              "  </svg>\n",
              "      </button>\n",
              "      \n",
              "  <style>\n",
              "    .colab-df-container {\n",
              "      display:flex;\n",
              "      flex-wrap:wrap;\n",
              "      gap: 12px;\n",
              "    }\n",
              "\n",
              "    .colab-df-convert {\n",
              "      background-color: #E8F0FE;\n",
              "      border: none;\n",
              "      border-radius: 50%;\n",
              "      cursor: pointer;\n",
              "      display: none;\n",
              "      fill: #1967D2;\n",
              "      height: 32px;\n",
              "      padding: 0 0 0 0;\n",
              "      width: 32px;\n",
              "    }\n",
              "\n",
              "    .colab-df-convert:hover {\n",
              "      background-color: #E2EBFA;\n",
              "      box-shadow: 0px 1px 2px rgba(60, 64, 67, 0.3), 0px 1px 3px 1px rgba(60, 64, 67, 0.15);\n",
              "      fill: #174EA6;\n",
              "    }\n",
              "\n",
              "    [theme=dark] .colab-df-convert {\n",
              "      background-color: #3B4455;\n",
              "      fill: #D2E3FC;\n",
              "    }\n",
              "\n",
              "    [theme=dark] .colab-df-convert:hover {\n",
              "      background-color: #434B5C;\n",
              "      box-shadow: 0px 1px 3px 1px rgba(0, 0, 0, 0.15);\n",
              "      filter: drop-shadow(0px 1px 2px rgba(0, 0, 0, 0.3));\n",
              "      fill: #FFFFFF;\n",
              "    }\n",
              "  </style>\n",
              "\n",
              "      <script>\n",
              "        const buttonEl =\n",
              "          document.querySelector('#df-ff309bae-f54a-4918-a854-e80b1e1fd364 button.colab-df-convert');\n",
              "        buttonEl.style.display =\n",
              "          google.colab.kernel.accessAllowed ? 'block' : 'none';\n",
              "\n",
              "        async function convertToInteractive(key) {\n",
              "          const element = document.querySelector('#df-ff309bae-f54a-4918-a854-e80b1e1fd364');\n",
              "          const dataTable =\n",
              "            await google.colab.kernel.invokeFunction('convertToInteractive',\n",
              "                                                     [key], {});\n",
              "          if (!dataTable) return;\n",
              "\n",
              "          const docLinkHtml = 'Like what you see? Visit the ' +\n",
              "            '<a target=\"_blank\" href=https://colab.research.google.com/notebooks/data_table.ipynb>data table notebook</a>'\n",
              "            + ' to learn more about interactive tables.';\n",
              "          element.innerHTML = '';\n",
              "          dataTable['output_type'] = 'display_data';\n",
              "          await google.colab.output.renderOutput(dataTable, element);\n",
              "          const docLink = document.createElement('div');\n",
              "          docLink.innerHTML = docLinkHtml;\n",
              "          element.appendChild(docLink);\n",
              "        }\n",
              "      </script>\n",
              "    </div>\n",
              "  </div>\n",
              "  "
            ],
            "text/plain": [
              "          Age  Blood Glucose Level(BGL)  Diastolic Blood Pressure  \\\n",
              "count   16969                     16969                     16969   \n",
              "unique     13                        82                        39   \n",
              "top         9                        68                        70   \n",
              "freq     6402                      2040                      1042   \n",
              "\n",
              "        Systolic Blood Pressure  Heart Rate  Body Temperature   SPO2  \\\n",
              "count                     16969       16969      16969.000000  16969   \n",
              "unique                       51          53      15636.000000      7   \n",
              "top                         111          95         97.578597     98   \n",
              "freq                        816         883         42.000000   7726   \n",
              "\n",
              "        Sweating (Y/N)  Shivering (Y/N) Diabetic/NonDiabetic (D/N)  \n",
              "count            16969            16969                      16969  \n",
              "unique               2                2                          2  \n",
              "top                  0                0                          D  \n",
              "freq             14904            14499                      16641  "
            ]
          },
          "execution_count": 656,
          "metadata": {},
          "output_type": "execute_result"
        }
      ],
      "source": [
        "df.describe()"
      ]
    },
    {
      "cell_type": "markdown",
      "metadata": {
        "id": "5Lo4baH8nCIG"
      },
      "source": [
        "Split the data into training and testing sets"
      ]
    },
    {
      "cell_type": "code",
      "execution_count": 657,
      "metadata": {
        "id": "oklNNVVtDInP"
      },
      "outputs": [],
      "source": [
        "X = df.iloc[:, :-1].astype(float)\n",
        "y = df.iloc[:, -1]\n",
        "\n",
        "X_train, X_test, y_train, y_test = train_test_split(X, y, test_size=0.2, random_state=42)"
      ]
    },
    {
      "cell_type": "markdown",
      "metadata": {
        "id": "IRnp5wHvnbZb"
      },
      "source": [
        "Fitting SVM classification\n",
        "And Predicting for Test"
      ]
    },
    {
      "cell_type": "code",
      "execution_count": 658,
      "metadata": {
        "id": "9tU7mgDd2IEv"
      },
      "outputs": [],
      "source": [
        "my_svm = SVC()\n",
        "my_svm.fit(X_train, y_train)\n",
        "\n",
        "y_pred = my_svm.predict(X_test)"
      ]
    },
    {
      "cell_type": "markdown",
      "metadata": {
        "id": "IXuhq4GGnjBj"
      },
      "source": [
        "Checking Accuracy for good measures"
      ]
    },
    {
      "cell_type": "code",
      "execution_count": 659,
      "metadata": {
        "colab": {
          "base_uri": "https://localhost:8080/"
        },
        "id": "h-FDGIsg3CyF",
        "outputId": "bdfbf702-bef0-4fc9-f6a2-9fb5220c99af"
      },
      "outputs": [
        {
          "name": "stdout",
          "output_type": "stream",
          "text": [
            "Accuracy: 98.02592810842663\n"
          ]
        }
      ],
      "source": [
        "accuracy = accuracy_score(y_test, y_pred)\n",
        "print(\"Accuracy:\", accuracy*100)"
      ]
    },
    {
      "cell_type": "markdown",
      "metadata": {
        "id": "xsd5U3genlej"
      },
      "source": [
        "Confusion matrix"
      ]
    },
    {
      "cell_type": "code",
      "execution_count": 660,
      "metadata": {
        "colab": {
          "base_uri": "https://localhost:8080/",
          "height": 472
        },
        "id": "MYTcJaMw7SGi",
        "outputId": "330ea489-8281-4a3f-9d7c-ff22af010aec"
      },
      "outputs": [
        {
          "data": {
            "image/png": "[encoded data removed]",
            "text/plain": [
              "<Figure size 640x480 with 2 Axes>"
            ]
          },
          "metadata": {},
          "output_type": "display_data"
        }
      ],
      "source": [
        "cm = confusion_matrix(y_test, y_pred)\n",
        "# Create a heatmap of the confusion matrix\n",
        "sns.heatmap(cm, annot=True, fmt='d', cmap='Blues')\n",
        "# Customize the plot\n",
        "plt.title('Confusion Matrix')\n",
        "plt.xlabel('Predicted Class')\n",
        "plt.ylabel('True Class')\n",
        "\n",
        "# Show the plot\n",
        "plt.show()"
      ]
    },
    {
      "cell_type": "code",
      "execution_count": 661,
      "metadata": {
        "id": "MPk0rGgj78bn"
      },
      "outputs": [],
      "source": [
        "# Calc (FRP)\n",
        "classes = len(set(y_test))\n",
        "fpr = []\n",
        "for i in range(classes):\n",
        "    fp = sum(cm[:, i]) - cm[i, i]\n",
        "    tn = sum(sum(cm)) - sum(cm[i, :]) - sum(cm[:, i]) + cm[i, i]\n",
        "    fpr_i = fp / (fp + tn)\n",
        "    fpr.append(fpr_i)\n",
        "    \n",
        "accuracy = accuracy_score(y_test, y_pred)"
      ]
    },
    {
      "cell_type": "code",
      "execution_count": 662,
      "metadata": {
        "colab": {
          "base_uri": "https://localhost:8080/"
        },
        "id": "YmGr67xM8E93",
        "outputId": "b8e5ae5f-cd59-4aaa-c881-c6e0dcd3b5ae"
      },
      "outputs": [
        {
          "name": "stdout",
          "output_type": "stream",
          "text": [
            "False Positive Rate (FPR) for each class:\n",
            "Class 0: 1.0000\n",
            "Class 1: 0.0000\n",
            "Overall Accuracy: 98.0259\n"
          ]
        }
      ],
      "source": [
        "print(\"False Positive Rate (FPR) for each class:\")\n",
        "for i in range(classes):\n",
        "    print(\"Class {}: {:.4f}\".format(i, fpr[i]))\n",
        "\n",
        "print(\"Overall Accuracy: {:.4f}\".format(accuracy*100))\n"
      ]
    }
  ],
  "metadata": {
    "colab": {
      "authorship_tag": "ABX9TyO1Jh2XPTMwVP9yzNLB5NUR",
      "include_colab_link": true,
      "provenance": []
    },
    "kernelspec": {
      "display_name": "Python 3",
      "name": "python3"
    },
    "language_info": {
      "name": "python"
    }
  },
  "nbformat": 4,
  "nbformat_minor": 0
}
